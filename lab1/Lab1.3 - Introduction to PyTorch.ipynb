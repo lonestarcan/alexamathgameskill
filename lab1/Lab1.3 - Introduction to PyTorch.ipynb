{
  "cells": [
    {
      "cell_type": "markdown",
      "metadata": {
        "id": "view-in-github",
        "colab_type": "text"
      },
      "source": [
        "<a href=\"https://colab.research.google.com/github/lonestarcan/alexamathgameskill/blob/master/lab1/Lab1.3%20-%20Introduction%20to%20PyTorch.ipynb\" target=\"_parent\"><img src=\"https://colab.research.google.com/assets/colab-badge.svg\" alt=\"Open In Colab\"/></a>"
      ]
    },
    {
      "cell_type": "markdown",
      "metadata": {
        "id": "WBk0ZDWY-ff8"
      },
      "source": [
        "<table align=\"center\">\n",
        "  <td align=\"center\">\n",
        "    <a target=\"_blank\" href=\"http://inspiredk.org\">\n",
        "    <img align=\"center\" src=\"https://i.ibb.co/Z6HZPSbH/Inspired-K-org-Logo-No-Whitespace-Extra-Small.png\">InspiredK.org Website</a>\n",
        "  </td>\n",
        "  \n",
        "  <td align=\"center\">\n",
        "    <a target=\"_blank\" href=\"https://colab.research.google.com/github/InspiredK-organization/MITintrotodeeplearning/blob/master/lab1/Lab1.3 - Introduction to PyTorch.ipynb\">\n",
        "    <img align=\"center\" src=\"https://i.ibb.co/2P3SLwK/colab.png\"/>Run in Google Colab</a>\n",
        "  </td>\n",
        "</table>\n",
        "\n",
        "# Copyright Information"
      ]
    },
    {
      "cell_type": "code",
      "execution_count": null,
      "metadata": {
        "id": "3eI6DUic-6jo"
      },
      "outputs": [],
      "source": [
        "# Copyright 2025 MIT Introduction to Deep Learning. All Rights Reserved.\n",
        "#\n",
        "# Licensed under the MIT License. You may not use this file except in compliance\n",
        "# with the License. Use and/or modification of this code outside of MIT Introduction\n",
        "# to Deep Learning must reference:\n",
        "#\n",
        "# © MIT Introduction to Deep Learning\n",
        "# http://introtodeeplearning.com\n",
        "#\n",
        "# Original lab is adopted from http://introtodeeplearning.com\n",
        "# Lab is edited by http://InspiredK.org"
      ]
    },
    {
      "cell_type": "markdown",
      "metadata": {
        "id": "57knM8jrYZ2t"
      },
      "source": [
        "# Lab 1: Intro to PyTorch and Music Generation with RNNs\n",
        "\n",
        "In this lab, you'll get exposure to using PyTorch and learn how it can be used for deep learning. Go through the code and run each cell. Along the way, you'll encounter several ***TODO*** blocks -- follow the instructions to fill them out before running those cells and continuing.\n",
        "\n",
        "\n",
        "# Part 1: Intro to PyTorch\n",
        "\n",
        "## 0.1 Install PyTorch\n",
        "\n",
        "[PyTorch](https://pytorch.org/) is a popular deep learning library known for its flexibility and ease of use. Here we'll learn how computations are represented and how to define a simple neural network in PyTorch. For all the labs in Introduction to Deep Learning 2025, there will be a PyTorch version available.\n",
        "\n",
        "Let's install PyTorch and a couple of dependencies."
      ]
    },
    {
      "cell_type": "code",
      "execution_count": null,
      "metadata": {
        "id": "LkaimNJfYZ2w"
      },
      "outputs": [],
      "source": [
        "import torch\n",
        "import torch.nn as nn\n",
        "\n",
        "# Download and import the MIT Introduction to Deep Learning package\n",
        "!pip install mitdeeplearning --quiet\n",
        "import mitdeeplearning as mdl\n",
        "\n",
        "import numpy as np # For nparrays\n",
        "import matplotlib.pyplot as plt # For graphical visualizations of different statistics"
      ]
    },
    {
      "cell_type": "markdown",
      "metadata": {
        "id": "2QNMcdP4m3Vs"
      },
      "source": [
        "## 1.1 What is PyTorch?\n",
        "\n",
        "PyTorch is a machine learning library, like TensorFlow. At its core, PyTorch provides an interface for creating and manipulating [tensors](https://pytorch.org/docs/stable/tensors.html), which are data structures that you can think of as multi-dimensional arrays. Tensors are represented as n-dimensional arrays of base datatypes such as a string or integer -- they provide a way to generalize vectors and matrices to higher dimensions. PyTorch provides the ability to perform computation on these tensors, define neural networks, and train them efficiently.\n",
        "\n",
        "The [```shape```](https://pytorch.org/docs/stable/generated/torch.Tensor.shape.html#torch.Tensor.shape) of a PyTorch tensor defines its number of dimensions and the size of each dimension. The `ndim` or [```dim```](https://pytorch.org/docs/stable/generated/torch.Tensor.dim.html#torch.Tensor.dim) of a PyTorch tensor provides the number of dimensions (n-dimensions) -- this is equivalent to the tensor's rank (as is used in TensorFlow), and you can also think of this as the tensor's order or degree.\n",
        "\n",
        "Let’s start by creating some tensors and inspecting their properties:\n"
      ]
    },
    {
      "cell_type": "code",
      "execution_count": null,
      "metadata": {
        "id": "tFxztZQInlAB"
      },
      "outputs": [],
      "source": [
        "integer = torch.tensor(1234)\n",
        "decimal = torch.tensor(3.14159265359)\n",
        "\n",
        "print(f\"`integer` is a {integer.ndim}-d Tensor: {integer}\")\n",
        "print(f\"`decimal` is a {decimal.ndim}-d Tensor: {decimal}\")"
      ]
    },
    {
      "cell_type": "markdown",
      "metadata": {
        "id": "-dljcPUcoJZ6"
      },
      "source": [
        "Vectors and lists can be used to create 1-d tensors:"
      ]
    },
    {
      "cell_type": "code",
      "execution_count": null,
      "metadata": {
        "id": "oaHXABe8oPcO"
      },
      "outputs": [],
      "source": [
        "fibonacci = torch.tensor([1, 1, 2, 3, 5, 8])\n",
        "count_to_100 = torch.tensor(range(100))\n",
        "\n",
        "print(f\"`fibonacci` is a {fibonacci.ndim}-d Tensor with shape: {fibonacci.shape}\")\n",
        "print(f\"`count_to_100` is a {count_to_100.ndim}-d Tensor with shape: {count_to_100.shape}\")"
      ]
    },
    {
      "cell_type": "markdown",
      "metadata": {
        "id": "gvffwkvtodLP"
      },
      "source": [
        "Next, let’s create 2-d (i.e., matrices) and higher-rank tensors. In image processing and computer vision, we will use 4-d Tensors with dimensions corresponding to batch size, number of color channels, image height, and image width."
      ]
    },
    {
      "cell_type": "code",
      "execution_count": null,
      "metadata": {
        "id": "tFeBBe1IouS3"
      },
      "outputs": [],
      "source": [
        "### Defining multi-dimensional Tensors ###\n",
        "\n",
        "'''TODO: Define a 2-dimensional Tensor'''\n",
        "matrix = # TODO This tensor has a shape of 2 x 4 (2 rows, 4 columns).\n",
        "\n",
        "assert isinstance(matrix, torch.Tensor), \"matrix must be a torch Tensor object\" # Is the object a Tensor?\n",
        "assert matrix.ndim == 2 # Is it two-dimensional?"
      ]
    },
    {
      "cell_type": "code",
      "execution_count": null,
      "metadata": {
        "id": "U7WV9wwm97UT"
      },
      "outputs": [],
      "source": [
        "'''TODO: Define a 4-d Tensor.'''\n",
        "# Use torch.zeros to initialize a 4-d Tensor of zeros with size 10 x 256 x 256 x 3.\n",
        "# You can think of this as 10 images where each image is RGB 256 x 256.\n",
        "images = # TODO This tensor contains all zeros, but in actual implementations there would be a wide variety of values.\n",
        "\n",
        "assert isinstance(images, torch.Tensor), \"images must be a torch Tensor object\" # Is the object a Tensor?\n",
        "assert images.ndim == 4, \"images must have 4 dimensions\" # Is it four-dimensional?\n",
        "assert images.shape == (10, 3, 256, 256), \"images is incorrect shape\" # Does it have the correct shape?"
      ]
    },
    {
      "cell_type": "markdown",
      "metadata": {
        "id": "wkaCDOGapMyl"
      },
      "source": [
        "As you have seen, the `shape` of a tensor provides the number of elements in each tensor dimension. The `shape` is quite useful, and we'll use it often. You can also use slicing to access subtensors within a higher-rank tensor:"
      ]
    },
    {
      "cell_type": "code",
      "execution_count": null,
      "metadata": {
        "id": "FhaufyObuLEG"
      },
      "outputs": [],
      "source": [
        "row_vector = matrix[1] # Get the second row at index 1.\n",
        "column_vector = matrix[:, 1] # Get the second column at index 1.\n",
        "scalar = matrix[0, 1] # Get the value in the first row (index 0) and second column (index 1).\n",
        "\n",
        "print(f\"`row_vector`: {row_vector.numpy()}\")\n",
        "print(f\"`column_vector`: {column_vector.numpy()}\")\n",
        "print(f\"`scalar`: {scalar.numpy()}\")"
      ]
    },
    {
      "cell_type": "markdown",
      "metadata": {
        "id": "iD3VO-LZYZ2z"
      },
      "source": [
        "## 1.2 Computations on Tensors\n",
        "\n",
        "A convenient way to think about and visualize computations in a machine learning framework like PyTorch is in terms of graphs. We can define this graph in terms of tensors, which hold data, and the mathematical operations that act on these tensors in some order. Let's look at a simple example, and define this computation using PyTorch:\n",
        "\n",
        "![alt text](https://raw.githubusercontent.com/MITDeepLearning/introtodeeplearning/2025/lab1/img/add-graph.png)"
      ]
    },
    {
      "cell_type": "code",
      "execution_count": null,
      "metadata": {
        "id": "X_YJrZsxYZ2z"
      },
      "outputs": [],
      "source": [
        "# Create the inputs from the graph and initialize their values.\n",
        "a = torch.tensor(15)\n",
        "b = torch.tensor(61)\n",
        "\n",
        "# Add them together.\n",
        "c1 = torch.add(a, b)\n",
        "c2 = a + b  # Pytorch overrides the \"+\" operation so that it can be used on Tensors.\n",
        "print(f\"c1: {c1}\")\n",
        "print(f\"c2: {c2}\")"
      ]
    },
    {
      "cell_type": "markdown",
      "metadata": {
        "id": "Mbfv_QOiYZ23"
      },
      "source": [
        "Notice how we've created a computation graph consisting of PyTorch operations, and how the output is a tensor with value 76 -- we've just created a computation graph consisting of operations, and it's executed them and given us back the result.\n",
        "\n",
        "Now let's consider a slightly more complicated example:\n",
        "\n",
        "![alt text](https://raw.githubusercontent.com/MITDeepLearning/introtodeeplearning/2025/lab1/img/computation-graph.png)\n",
        "\n",
        "Here, we take two inputs, `a, b`, and compute an output `e`. Each node in the graph represents an operation that takes some input, does some computation, and passes its output to another node.\n",
        "\n",
        "Let's define a simple function in PyTorch to construct this computation function:"
      ]
    },
    {
      "cell_type": "code",
      "execution_count": null,
      "metadata": {
        "id": "PJnfzpWyYZ23",
        "scrolled": true
      },
      "outputs": [],
      "source": [
        "# Construct a computation function based on the above graph.\n",
        "def func(a, b):\n",
        "    '''TODO: Define the operation for c, d, e (use torch.add, torch.subtract, torch.multiply).'''\n",
        "    c = # TODO Add a and b.\n",
        "    d = # TODO Subtract 1 from b.\n",
        "    e = # TODO Multiply c and d.\n",
        "    return e"
      ]
    },
    {
      "cell_type": "markdown",
      "metadata": {
        "id": "AwrRfDMS2-oy"
      },
      "source": [
        "Now, we can call this function to execute the computation graph given some inputs `a,b`:"
      ]
    },
    {
      "cell_type": "code",
      "execution_count": null,
      "metadata": {
        "id": "pnwsf8w2uF7p"
      },
      "outputs": [],
      "source": [
        "# Here are some example values for a and b.\n",
        "a, b = 1.5, 2.5\n",
        "# Call the computation function on these inputs.\n",
        "e_out = func(a, b)\n",
        "# c = 1.5 + 2.5 = 4\n",
        "# d = 2.5 - 1 = 1.5\n",
        "# e = 4 * 1.5 = 6.0\n",
        "print(e_out) # 6.0"
      ]
    },
    {
      "cell_type": "markdown",
      "metadata": {
        "id": "6HqgUIUhYZ29"
      },
      "source": [
        "Notice how our output is a tensor with value defined by the output of the computation, and that the output has no shape as it is a single scalar value."
      ]
    },
    {
      "cell_type": "markdown",
      "metadata": {
        "id": "1h4o9Bb0YZ29"
      },
      "source": [
        "## 1.3 Neural networks in PyTorch\n",
        "We can also define neural networks in PyTorch. PyTorch uses [``torch.nn.Module``](https://pytorch.org/docs/stable/generated/torch.nn.Module.html), which serves as a base class for all neural network modules in PyTorch and thus provides a framework for building and training neural networks.\n",
        "\n",
        "Let's consider the example of a simple perceptron defined by just one dense (aka fully-connected or linear) layer: $ y = \\sigma(Wx + b) $, where $W$ represents a matrix of weights, $b$ is a bias, $x$ is the input, $\\sigma$ is the sigmoid activation function, and $y$ is the output.\n",
        "\n",
        "![alt text](https://raw.githubusercontent.com/MITDeepLearning/introtodeeplearning/2025/lab1/img/computation-graph-2.png)\n",
        "\n",
        "We will use `torch.nn.Module` to define layers -- the building blocks of neural networks. Layers implement common neural networks operations. In PyTorch, when we implement a layer, we subclass `nn.Module` and define the parameters of the layer as attributes of our new class. We also define and override a function [``forward``](https://pytorch.org/docs/stable/generated/torch.nn.Module.html#torch.nn.Module.forward), which will define the forward pass computation that is performed at every step. All classes subclassing `nn.Module` should override the `forward` function.\n",
        "\n",
        "Let's write a dense layer class to implement a perceptron defined above."
      ]
    },
    {
      "cell_type": "code",
      "execution_count": null,
      "metadata": {
        "id": "HutbJk-1kHPh"
      },
      "outputs": [],
      "source": [
        "### Defining a custom network layer ###\n",
        "\n",
        "class OurDenseLayer(torch.nn.Module):\n",
        "    def __init__(self, num_inputs, num_outputs):\n",
        "        super(OurDenseLayer, self).__init__()\n",
        "        # Define and initialize parameters - a weight matrix W and bias b.\n",
        "        self.W = torch.nn.Parameter(torch.randn(num_inputs, num_outputs)) # These are the weights.\n",
        "        self.b = torch.nn.Parameter(torch.randn(num_outputs)) # These are the biases.\n",
        "        # Note: parameter initialization is random.\n",
        "\n",
        "    def forward(self, x):\n",
        "        '''TODO: Define the operation for z (hint: use torch.matmul).'''\n",
        "        z = # TODO This is the operation that combines the inputs, weights, and biases.\n",
        "\n",
        "        '''TODO: Define the operation for y (hint: use torch.sigmoid).'''\n",
        "        y = # TODO This is the function 'sigma' that reaches the final output.\n",
        "        return y\n",
        "\n",
        "num_inputs = 2 # We want our dense layer to have two inputs.\n",
        "num_outputs = 3 # And three outputs.\n",
        "layer = OurDenseLayer(num_inputs, num_outputs) # Define the dense layer with the set input and output values.\n",
        "x_input = torch.tensor([[1, 2.]]) # Test our dense layer with an input.\n",
        "y = layer(x_input) # Use the layer on that input.\n",
        "\n",
        "print(f\"Input shape: {x_input.shape}\")\n",
        "print(f\"Output shape: {y.shape}\")\n",
        "print(f\"Output: {y}\")"
      ]
    },
    {
      "cell_type": "markdown",
      "metadata": {
        "id": "Jt1FgM7qYZ3D"
      },
      "source": [
        "Conveniently, PyTorch has defined a number of ```nn.Modules``` (or Layers) that are commonly used in neural networks, for example a [```nn.Linear```](https://pytorch.org/docs/stable/generated/torch.nn.Linear.html) or [`nn.Sigmoid`](https://pytorch.org/docs/stable/generated/torch.nn.Sigmoid.html) module.\n",
        "\n",
        "Now, instead of using a single ```Module``` to define our simple neural network, we'll use the  [`nn.Sequential`](https://pytorch.org/docs/stable/generated/torch.nn.Sequential.html) module from PyTorch and a single [`nn.Linear` ](https://pytorch.org/docs/stable/generated/torch.nn.Linear.html) layer to define our network. With the `Sequential` API, you can readily create neural networks by stacking together layers like building blocks."
      ]
    },
    {
      "cell_type": "code",
      "execution_count": null,
      "metadata": {
        "id": "7WXTpmoL6TDz"
      },
      "outputs": [],
      "source": [
        "### Defining a neural network using Sequential ###\n",
        "\n",
        "# Define the number of inputs and outputs with the same values as before.\n",
        "n_input_nodes = 2\n",
        "n_output_nodes = 3\n",
        "\n",
        "# Define the model using these values.\n",
        "'''TODO: Use the Sequential API to define a neural network with a single linear (dense) layer, followed by a non-linearity to compute z'''\n",
        "model = nn.Sequential('''TODO''')\n",
        "    # Add a linear layer with input size 2 and output size 3.\n",
        "    # Add a sigmoid activation function for non-linearity."
      ]
    },
    {
      "cell_type": "markdown",
      "metadata": {
        "id": "HDGcwYfUyR-U"
      },
      "source": [
        "We've defined our model using the Sequential API. Now, we can test it out using an example input:"
      ]
    },
    {
      "cell_type": "code",
      "execution_count": null,
      "metadata": {
        "id": "zKhp6XqCFFa0"
      },
      "outputs": [],
      "source": [
        "# Test the model with example input\n",
        "x_input = torch.tensor([[1, 2.]]) # Use the model with the same example input from before.\n",
        "\n",
        "'''TODO: Feed the input into the model and predict the output!'''\n",
        "model_output = # TODO Test our model with that input.\n",
        "\n",
        "print(f\"Input shape: {x_input.shape}\")\n",
        "print(f\"Output shape: {y.shape}\")\n",
        "print(f\"Output: {y}\") # The output should be the same as before."
      ]
    },
    {
      "cell_type": "markdown",
      "metadata": {
        "id": "596NvsOOtr9F"
      },
      "source": [
        "With PyTorch, we can create more flexible models by subclassing [`nn.Module`](https://pytorch.org/docs/stable/generated/torch.nn.Module.html). The `nn.Module` class allows us to group layers together flexibly to define new architectures.\n",
        "\n",
        "As we saw earlier with `OurDenseLayer`, we can subclass `nn.Module` to create a class for our model, and then define the forward pass through the network using the `forward` function. Subclassing affords the flexibility to define custom layers, custom training loops, custom activation functions, and custom models. Let's define the same neural network model as above (i.e., Linear layer with an activation function after it), now using subclassing and using PyTorch's built in linear layer from `nn.Linear`."
      ]
    },
    {
      "cell_type": "code",
      "execution_count": null,
      "metadata": {
        "id": "K4aCflPVyViD"
      },
      "outputs": [],
      "source": [
        "### Create a custom model using subclassing ###\n",
        "\n",
        "class LinearWithSigmoidActivation(nn.Module):\n",
        "    # In __init__, we define the model's layers.\n",
        "    def __init__(self, num_inputs, num_outputs):\n",
        "        super(LinearWithSigmoidActivation, self).__init__()\n",
        "        '''TODO: Our model consists of a single linear (dense) layer and a sigmoid activation. Define this model just like before.'''\n",
        "        self.linear = '''TODO: linear layer''' # The linear layer with a set number of inputs and outputs.\n",
        "        self.activation = '''TODO: sigmoid activation''' # The non-linear activation function, sigmoid.\n",
        "\n",
        "    # Define the call function that lets our model receive inputs and provide outputs.\n",
        "    def forward(self, inputs):\n",
        "        linear_output = self.linear(inputs)\n",
        "        output = self.activation(linear_output)\n",
        "        return output"
      ]
    },
    {
      "cell_type": "markdown",
      "metadata": {
        "id": "goKCQ9dEGzRn"
      },
      "source": [
        "Let's test out our new model, using an example input, setting `n_input_nodes=2` and `n_output_nodes=3` as before."
      ]
    },
    {
      "cell_type": "code",
      "execution_count": null,
      "metadata": {
        "id": "V-eNhSyRG6hl"
      },
      "outputs": [],
      "source": [
        "# Define the number of inputs and outputs like in previous examples.\n",
        "n_input_nodes = 2\n",
        "n_output_nodes = 3\n",
        "\n",
        "model = LinearWithSigmoidActivation(n_input_nodes, n_output_nodes) # Define our model with these set values.\n",
        "x_input = torch.tensor([[1, 2.]]) # Again, use the same example input from before.\n",
        "\n",
        "y = model(x_input) # Unlike last time, however, the outputs will be different every time the code is run.\n",
        "print(f\"Input shape: {x_input.shape}\")\n",
        "print(f\"Output shape: {y.shape}\")\n",
        "print(f\"Output: {y}\")"
      ]
    },
    {
      "cell_type": "markdown",
      "metadata": {
        "id": "HTIFMJLAzsyE"
      },
      "source": [
        "Importantly, `nn.Module` affords us a lot of flexibility to define custom models. For example, we can use boolean arguments in the `forward` function to specify different network behaviors, for example different behaviors during training and inference. Let's suppose under some instances we want our network to simply output the input, without any perturbation. We define a boolean argument `isidentity` to control this behavior:"
      ]
    },
    {
      "cell_type": "code",
      "execution_count": null,
      "metadata": {
        "id": "P7jzGX5D1xT5"
      },
      "outputs": [],
      "source": [
        "### Defining a custom model using subclassing and adding custom behavior ###\n",
        "\n",
        "class LinearWithIdentity(nn.Module):\n",
        "    # As before, in __init__ we define the model's layers.\n",
        "    def __init__(self, num_inputs, num_outputs):\n",
        "        super(LinearWithIdentity, self).__init__()\n",
        "        self.linear = nn.Linear(num_inputs, num_outputs) # Define the model like before with a Linear layer.\n",
        "\n",
        "    '''TODO: Implement the behavior where the network outputs the input, unchanged, under control of the isidentity argument.'''\n",
        "\n",
        "    # def forward(self, inputs, isidentity=False):\n",
        "        # If isidentity is True, then return the inputs as-is.\n",
        "        # If isidentity is False, then send the inputs through our model and provide an output."
      ]
    },
    {
      "cell_type": "markdown",
      "metadata": {
        "id": "Ku4rcCGx5T3y"
      },
      "source": [
        "Let's test this behavior:"
      ]
    },
    {
      "cell_type": "code",
      "execution_count": null,
      "metadata": {
        "id": "NzC0mgbk5dp2"
      },
      "outputs": [],
      "source": [
        "model = LinearWithIdentity(num_inputs=2, num_outputs=3) # Create the model with the same inputs and outputs as before.\n",
        "x_input = torch.tensor([[1, 2.]]) # Yet again, use the same example input from before.\n",
        "\n",
        "'''TODO: Pass the input into the model and call with and without the input identity option.'''\n",
        "out_with_linear = # TODO Use the model on this input with isidentity set to False.\n",
        "out_with_identity = # TODO Then, use the model on the input with isidentity set to True.\n",
        "\n",
        "print(\"Network linear output: {}\\nNetwork identity output: {}\".format(out_with_linear, out_with_identity)) # Compare the outputs."
      ]
    },
    {
      "cell_type": "markdown",
      "metadata": {
        "id": "7V1dEqdk6VI5"
      },
      "source": [
        "Now that we have learned how to define layers and models in PyTorch using both the Sequential API and subclassing `nn.Module`, we're ready to turn our attention to how to actually implement network training with backpropagation."
      ]
    },
    {
      "cell_type": "markdown",
      "metadata": {
        "id": "dQwDhKn8kbO2"
      },
      "source": [
        "## 1.4 Automatic Differentiation in PyTorch\n",
        "\n",
        "In PyTorch, [`torch.autograd`](https://pytorch.org/docs/stable/autograd.html) is used for [automatic differentiation](https://en.wikipedia.org/wiki/Automatic_differentiation), which is critical for training deep learning models with [backpropagation](https://en.wikipedia.org/wiki/Backpropagation).\n",
        "\n",
        "We will use the PyTorch [`.backward()`](https://pytorch.org/docs/stable/generated/torch.Tensor.backward.html) method to trace operations for computing gradients. On a tensor, the [`requires_grad`](https://pytorch.org/docs/stable/generated/torch.Tensor.requires_grad_.html) attribute controls whether autograd should record operations on that tensor. When a forward pass is made through the network, PyTorch builds a computational graph dynamically; then, to compute the gradient, the `backward()` method is called to perform backpropagation.\n",
        "\n",
        "Let's compute the gradient of $ y = x^2 $:"
      ]
    },
    {
      "cell_type": "code",
      "execution_count": null,
      "metadata": {
        "id": "tdkqk8pw5yJM"
      },
      "outputs": [],
      "source": [
        "### Gradient computation using PyTorch autograd ###\n",
        "\n",
        "x = torch.tensor(3.0, requires_grad=True) # Create a given variable `x` equal to 3.0, and have PyTorch record its operations.\n",
        "y = x ** 2 # Let's use the example of `y = x^2`\n",
        "y.backward() # Compute the gradient, the derivative of all mathematical operations that happen to a given value until the .backward() method is called.\n",
        "\n",
        "dy_dx = x.grad # Call .grad on our input so we can get the gradient value after computing it.\n",
        "print(\"dy_dx of y = x^2 at x = 3.0 is\", dy_dx.numpy())\n",
        "assert dy_dx == 6.0 # Is the gradient equal to 6?"
      ]
    },
    {
      "cell_type": "markdown",
      "metadata": {
        "id": "JhU5metS5xF3"
      },
      "source": [
        "In training neural networks, we use differentiation and stochastic gradient descent (SGD) to optimize a loss function. Now that we have a sense of how PyTorch's autograd can be used to compute and access derivatives, we will look at an example where we use automatic differentiation and SGD to find the minimum of $ L=(x-x_f)^2 $. Here $x_f$ is a variable for a desired value we are trying to optimize for; $L$ represents a loss that we are trying to minimize. While we can clearly solve this problem analytically ($ x_{min}=x_f $), considering how we can compute this using PyTorch's autograd sets us up nicely for future labs where we use gradient descent to optimize entire neural network losses."
      ]
    },
    {
      "cell_type": "code",
      "execution_count": null,
      "metadata": {
        "attributes": {
          "classes": [
            "py"
          ],
          "id": ""
        },
        "id": "7g1yWiSXqEf-"
      },
      "outputs": [],
      "source": [
        "### Function minimization with autograd and gradients ###\n",
        "\n",
        "x = torch.randn(1) # Create a single random value for the initial x.\n",
        "print(f\"Initializing x={x.item()}\") # Print the initial value.\n",
        "\n",
        "x_f = 4  # Create a target value that x should reach.\n",
        "learning_rate = 1e-2 # Set a rate to change x to reach the target value.\n",
        "iterations = 500 # Set a number of iterations to loop through.\n",
        "history = [] # Create an empty list to store all x values for graphing.\n",
        "\n",
        "# In each iteration, we compute the loss, compute the gradient of the loss, and update the x value based on the gradient.\n",
        "for i in range(iterations):\n",
        "    x = torch.tensor([x], requires_grad=True) # Create a value for our x that tracks all its operations in our current iteration.\n",
        "    loss = (x - x_f) ** 2  # Compute the loss as the difference between the initial and target values.\n",
        "\n",
        "    loss.backward() # Backpropagate through the loss for our input x to compute the gradient.\n",
        "    x = x.item() - learning_rate * x.grad # Change the initial value to move it slightly towards the target value.\n",
        "    history.append(x.item()) # Add the updated value to the graphing list.\n",
        "\n",
        "print(\"Final x={}\".format(x.item())) # Print the final value to see how close it is to the target value.\n",
        "\n",
        "# Plot the changes of the initial value as it moves towards the target value.\n",
        "plt.plot(history)\n",
        "plt.plot([0, iterations], [x_f, x_f])\n",
        "plt.legend(('Initial Value', 'Target Value'))\n",
        "plt.xlabel('Iteration')\n",
        "plt.ylabel('Value')"
      ]
    },
    {
      "cell_type": "markdown",
      "metadata": {
        "id": "pC7czCwk3ceH"
      },
      "source": [
        "\n",
        "This process of taking an initial value and moving towards a target value is called Stochastic Gradient Descent (SGD). SGD is used in machine learning to optimize weights for higher model accuracy. Even though many other methods have been developed, it remains one of the most commonly used in machine learning for weight optimization.\n",
        "\n",
        "PyTorch's `autograd` provides an extremely flexible framework for automatic differentiation. In order to backpropagate errors through a neural network, we track operations on a variable, use this information to determine the gradients, and then use these gradients for optimization using SGD.\n",
        "\n",
        "I highly encourage you to experiment with different values for `learning_rate` and `iterations` to see what effects they have on the final value and the trend of the graph. Additionally, go back to the custom layers and models we defined to see what happens when you change the input, input shape, output shape, and other characteristics of the model."
      ]
    }
  ],
  "metadata": {
    "accelerator": "GPU",
    "colab": {
      "collapsed_sections": [
        "WBk0ZDWY-ff8"
      ],
      "name": "Lab1.3 - Introduction to PyTorch.ipynb",
      "provenance": [],
      "gpuType": "T4",
      "include_colab_link": true
    },
    "kernelspec": {
      "display_name": "Python 3",
      "name": "python3"
    },
    "language_info": {
      "codemirror_mode": {
        "name": "ipython",
        "version": 3
      },
      "file_extension": ".py",
      "mimetype": "text/x-python",
      "name": "python",
      "nbconvert_exporter": "python",
      "pygments_lexer": "ipython3",
      "version": "3.10.6"
    },
    "vscode": {
      "interpreter": {
        "hash": "31f2aee4e71d21fbe5cf8b01ff0e069b9275f58929596ceb00d14d90e3e16cd6"
      }
    }
  },
  "nbformat": 4,
  "nbformat_minor": 0
}